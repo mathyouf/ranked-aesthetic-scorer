{
  "nbformat": 4,
  "nbformat_minor": 0,
  "metadata": {
    "colab": {
      "private_outputs": true,
      "provenance": []
    },
    "kernelspec": {
      "name": "python3",
      "display_name": "Python 3"
    },
    "language_info": {
      "name": "python"
    }
  },
  "cells": [
    {
      "cell_type": "code",
      "execution_count": null,
      "metadata": {
        "id": "GImAY9Zedjhb"
      },
      "outputs": [],
      "source": [
        "!wget https://raw.githubusercontent.com/christophschuhmann/improved-aesthetic-predictor/main/sac+logos+ava1-l14-linearMSE.pth"
      ]
    },
    {
      "cell_type": "code",
      "source": [
        "!pip install \"pytorch_lightning==1.8.6\""
      ],
      "metadata": {
        "id": "6KtxeKK_g4m5"
      },
      "execution_count": null,
      "outputs": []
    },
    {
      "cell_type": "code",
      "source": [
        "import pytorch_lightning as pl\n",
        "import torch\n",
        "import torch.nn as nn\n",
        "\n",
        "\n",
        "class MLP(pl.LightningModule):\n",
        "    def __init__(self, input_size):\n",
        "        super().__init__()\n",
        "        self.input_size = input_size\n",
        "        self.layers = nn.Sequential(\n",
        "            nn.Linear(self.input_size, 1024),\n",
        "            #nn.ReLU(),\n",
        "            nn.Dropout(0.2),\n",
        "            nn.Linear(1024, 128),\n",
        "            #nn.ReLU(),\n",
        "            nn.Dropout(0.2),\n",
        "            nn.Linear(128, 64),\n",
        "            #nn.ReLU(),\n",
        "            nn.Dropout(0.1),\n",
        "\n",
        "            nn.Linear(64, 16),\n",
        "            #nn.ReLU(),\n",
        "\n",
        "            nn.Linear(16, 1)\n",
        "        )\n",
        "\n",
        "    def forward(self, x):\n",
        "        return self.layers(x)\n",
        "\n",
        "\n",
        "model = MLP(768)  # CLIP embedding dim is 768 for CLIP ViT L 14\n",
        "\n",
        "device = \"cuda\" if torch.cuda.is_available() else \"cpu\"\n",
        "state_dict = torch.load(\"sac+logos+ava1-l14-linearMSE.pth\", map_location=device)   # load the model you trained previously or the model available in this repo\n",
        "\n",
        "model.load_state_dict(state_dict)\n",
        "\n",
        "model.to(device)\n",
        "model.eval()"
      ],
      "metadata": {
        "id": "f_0CfaLMgzZg"
      },
      "execution_count": null,
      "outputs": []
    },
    {
      "cell_type": "markdown",
      "source": [
        "### Bias: `linear(0)`"
      ],
      "metadata": {
        "id": "yz_3wCNKm_Dl"
      }
    },
    {
      "cell_type": "code",
      "source": [
        "zero = torch.zeros(model.input_size)"
      ],
      "metadata": {
        "id": "QD9h7a4-jmEi"
      },
      "execution_count": null,
      "outputs": []
    },
    {
      "cell_type": "code",
      "source": [
        "with torch.no_grad():\n",
        "    bias = model(zero)\n",
        "\n",
        "print( \"Aesthetic score predicted by the model:\")\n",
        "print( bias )"
      ],
      "metadata": {
        "id": "Ye8ThPrPjQpZ"
      },
      "execution_count": null,
      "outputs": []
    },
    {
      "cell_type": "markdown",
      "source": [
        "### Weights: `linear(e[i])` for all `i`"
      ],
      "metadata": {
        "id": "EHqbRqMAnEvQ"
      }
    },
    {
      "cell_type": "code",
      "source": [
        "one_hots = torch.eye(model.input_size)"
      ],
      "metadata": {
        "id": "OgVkVwP1jWzs"
      },
      "execution_count": null,
      "outputs": []
    },
    {
      "cell_type": "code",
      "source": [
        "with torch.no_grad():\n",
        "    weights = model(one_hots) - bias"
      ],
      "metadata": {
        "id": "u6L1yr59jyLt"
      },
      "execution_count": null,
      "outputs": []
    },
    {
      "cell_type": "markdown",
      "source": [
        "### Alternate model"
      ],
      "metadata": {
        "id": "xlrfm2wznej-"
      }
    },
    {
      "cell_type": "code",
      "source": [
        "def alternate(x):\n",
        "    return x @ weights + bias"
      ],
      "metadata": {
        "id": "NVNdWmH9njAV"
      },
      "execution_count": null,
      "outputs": []
    },
    {
      "cell_type": "markdown",
      "source": [
        "### Comparison of Outputs"
      ],
      "metadata": {
        "id": "N6Pqk5SgnOrG"
      }
    },
    {
      "cell_type": "code",
      "source": [
        "N_tests = 100\n",
        "random_inputs = [random_valid_input() for _ in range(N_tests)]"
      ],
      "metadata": {
        "id": "lVwgQYZXnXw2"
      },
      "execution_count": null,
      "outputs": []
    },
    {
      "cell_type": "code",
      "source": [
        "random_valid_input = lambda: torch.randn_like(zero)"
      ],
      "metadata": {
        "id": "hC3f_jYHlQUw"
      },
      "execution_count": null,
      "outputs": []
    },
    {
      "cell_type": "code",
      "source": [
        "def run_model(x):\n",
        "    with torch.no_grad():\n",
        "        return model(x)\n",
        "        \n",
        "run_alternate = lambda x: alternate(x)"
      ],
      "metadata": {
        "id": "8Ki0Uf4Xk3R2"
      },
      "execution_count": null,
      "outputs": []
    },
    {
      "cell_type": "markdown",
      "source": [
        "#### Visual"
      ],
      "metadata": {
        "id": "nDZffKXcnRwu"
      }
    },
    {
      "cell_type": "code",
      "source": [
        "%%time\n",
        "model_outs = [run_model(x) for x in random_inputs]"
      ],
      "metadata": {
        "id": "OTBG6C3EmoqQ"
      },
      "execution_count": null,
      "outputs": []
    },
    {
      "cell_type": "code",
      "source": [
        "%%time\n",
        "alternate_outs = [run_alternate(x) for x in random_inputs]"
      ],
      "metadata": {
        "id": "f1CvQoGlp6Xs"
      },
      "execution_count": null,
      "outputs": []
    },
    {
      "cell_type": "code",
      "source": [
        "import matplotlib.pyplot as plt"
      ],
      "metadata": {
        "id": "epXOyc0EmlXf"
      },
      "execution_count": null,
      "outputs": []
    },
    {
      "cell_type": "code",
      "source": [
        "plt.plot(model_outs, alternate_outs);"
      ],
      "metadata": {
        "id": "R2kkti4Gmm5Q"
      },
      "execution_count": null,
      "outputs": []
    },
    {
      "cell_type": "code",
      "source": [
        "def assert_equivalence(embed, run_model, run_alternate):\n",
        "    model_outs = run_model(embed)\n",
        "    alternate_outs = run_alternate(embed)\n",
        "    assert torch.allclose(model_outs, alternate_outs, rtol=1e-3), f\"total error of {torch.sum(torch.square(model_outs - alternate_outs))}\""
      ],
      "metadata": {
        "id": "kZk5d2bukUyS"
      },
      "execution_count": null,
      "outputs": []
    },
    {
      "cell_type": "code",
      "source": [
        "# easy true negatives\n",
        "assert_equivalence(zero, run_model, run_model)\n",
        "assert_equivalence(zero, run_model, run_alternate)\n",
        "assert_equivalence(random_valid_input(), run_model, run_model)"
      ],
      "metadata": {
        "id": "yycQirVCk6sR"
      },
      "execution_count": null,
      "outputs": []
    },
    {
      "cell_type": "code",
      "source": [
        "# easy true positive\n",
        "try:\n",
        "    assert_equivalence(zero, run_model, lambda x: run_model(x) + 1)\n",
        "    assert False, \"assertion should've failed but didnt\"\n",
        "except AssertionError:\n",
        "    pass"
      ],
      "metadata": {
        "id": "s5Py-ucXk-yO"
      },
      "execution_count": null,
      "outputs": []
    },
    {
      "cell_type": "code",
      "source": [
        "# real true negatives\n",
        "\n",
        "for random_input in random_inputs:\n",
        "    assert_equivalence(random_input, run_model, run_alternate)"
      ],
      "metadata": {
        "id": "HeBTmhBbltyb"
      },
      "execution_count": null,
      "outputs": []
    },
    {
      "cell_type": "markdown",
      "source": [
        "### Bonus"
      ],
      "metadata": {
        "id": "243K8wzroYWX"
      }
    },
    {
      "cell_type": "code",
      "source": [
        "plt.hist(weights.T);"
      ],
      "metadata": {
        "id": "g7USzsGdogwb"
      },
      "execution_count": null,
      "outputs": []
    }
  ]
}